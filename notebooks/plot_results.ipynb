{
 "cells": [
  {
   "cell_type": "code",
   "execution_count": 1,
   "metadata": {},
   "outputs": [],
   "source": [
    "%load_ext autoreload\n",
    "%autoreload 2"
   ]
  },
  {
   "cell_type": "code",
   "execution_count": 2,
   "metadata": {},
   "outputs": [
    {
     "name": "stdout",
     "output_type": "stream",
     "text": [
      "/home/pierreo/bo-on-graph\n"
     ]
    }
   ],
   "source": [
    "cd .."
   ]
  },
  {
   "cell_type": "code",
   "execution_count": 3,
   "metadata": {},
   "outputs": [
    {
     "name": "stderr",
     "output_type": "stream",
     "text": [
      "/home/pierreo/miniconda3/envs/graph/lib/python3.10/site-packages/tqdm/auto.py:21: TqdmWarning: IProgress not found. Please update jupyter and ipywidgets. See https://ipywidgets.readthedocs.io/en/stable/user_install.html\n",
      "  from .autonotebook import tqdm as notebook_tqdm\n"
     ]
    }
   ],
   "source": [
    "import os\n",
    "import torch\n",
    "import pandas as pd\n",
    "import matplotlib\n",
    "import numpy as np\n",
    "import matplotlib.pyplot as plt\n",
    "from copy import deepcopy\n",
    "matplotlib.rcParams.update({'font.size': 15})\n",
    "supported_labels = [\n",
    "    \"random\",\n",
    "    \"local_search\",\n",
    "    \"ei\",\n",
    "    \"ei_ego_network_1\",\n",
    "    \"ei_ego_network_1_old\",\n",
    "    \"dfs\",\n",
    "    \"bfs\",\n",
    "    \"ei_ego_network_2\",\n",
    "    \"ei_ego_network_2_no_ard\",\n",
    "]\n",
    "# cycler('color', ['#1f77b4', '#ff7f0e', '#2ca02c', '#d62728', '#9467bd', '#8c564b', '#e377c2', '#7f7f7f', '#bcbd22', '#17becf']))\n",
    "d_color = {\"ei_ego_network_1\":\"#1f77b4\", \"ei_ego_network_2\":\"#8c564b\", \"random\":\"#ff7f0e\",\n",
    "           \"local_search\":\"#2ca02c\", \"dfs\": \"#d62728\", \"bfs\": \"#9467bd\", \"ei_ego_network_1_old\":\"#e377c2\",\n",
    "           \"ei_ego_network_2_no_ard\":\"#7f7f7f\"}\n",
    "d_label = {\"ei_ego_network_1\":\"BO_Poly\", \"ei_ego_network_1_old\":\"BO_SumInverse\",\n",
    "           \"ei_ego_network_2\":\"BO_Diff_ARD\", \"ei_ego_network_2_no_ard\":\"BO_Diff\", \n",
    "           \"random\":\"Random\", \"local_search\":\"Local search\", \"dfs\": \"Dfs\", \"bfs\": \"Bfs\"}\n",
    "\n"
   ]
  },
  {
   "cell_type": "code",
   "execution_count": 4,
   "metadata": {},
   "outputs": [],
   "source": [
    "def plot_result(ax, path: str, label: str, plot_kwargs: dict = None, median=False, std=False, cumulative=True, regret=True):\n",
    "    # path: main directory of experiments (eg. logs/centrality), label : label experiment to plot\n",
    "    exp_dir = os.path.join(path, label)\n",
    "    algorithm_name = [name for name in os.listdir(exp_dir) if os.path.isdir(os.path.join(exp_dir, name))]\n",
    "    min_max_len = np.inf\n",
    "    for algorithm in algorithm_name:\n",
    "        alg_dir = os.path.join(exp_dir, algorithm)\n",
    "        ## Here are in directory with signal png and pt\n",
    "        plot_kwargs = deepcopy(plot_kwargs) or {}\n",
    "        data_path_seeds = [f for f in os.listdir(alg_dir) if \".pt\" in f]\n",
    "        data_over_seeds = []\n",
    "        for i, df in enumerate(data_path_seeds):\n",
    "            data_path = os.path.join(alg_dir, df)\n",
    "            with open(data_path, \"rb\") as fp:\n",
    "                data = torch.load(data_path, map_location=\"cpu\")\n",
    "                minimize = False\n",
    "            if \"regret\" in data.keys() and regret:\n",
    "                y = -data[\"regret\"].numpy().flatten()   # to maximize negative regret\n",
    "                minimize = True\n",
    "            else:\n",
    "                assert \"Y\" in data.keys()\n",
    "                y = data[\"Y\"].numpy().flatten()\n",
    "            data_over_seeds.append(y)\n",
    "        n_data_per_trial = np.array([len(d) for d in data_over_seeds])\n",
    "        max_len = max(n_data_per_trial)\n",
    "        if len(np.unique(n_data_per_trial)) > 1:\n",
    "            # pad as appropriate\n",
    "            for i, d in enumerate(data_over_seeds):\n",
    "                data_over_seeds[i] = np.concatenate((\n",
    "                    d, d[-1] * np.ones(max_len - d.shape[0])))\n",
    "        all_data = np.array(data_over_seeds)\n",
    "        if cumulative:\n",
    "            y = pd.DataFrame(all_data).cummax(axis=1)\n",
    "        else:\n",
    "            y = pd.DataFrame(all_data)\n",
    "        x = np.arange(all_data.shape[1])\n",
    "        if median:\n",
    "            mean = y.median(axis=0)\n",
    "            lb = y.quantile(q=0.25, axis=0)\n",
    "            ub = y.quantile(q=0.75, axis=0)\n",
    "        elif std:\n",
    "            mean = y.mean(axis=0)\n",
    "            # standard error\n",
    "            lb = mean - y.std(axis=0)\n",
    "            ub = mean + y.std(axis=0)\n",
    "        else:\n",
    "            mean = y.mean(axis=0)\n",
    "            # standard error\n",
    "            lb = mean - y.std(axis=0) / np.sqrt(all_data.shape[0])\n",
    "            ub = mean + y.std(axis=0) / np.sqrt(all_data.shape[0])\n",
    "        if minimize:\n",
    "            mean = -mean\n",
    "            lb = -lb\n",
    "            ub = -ub\n",
    "        ax.plot(x, mean, \".-\", label=d_label[algorithm], color=d_color[algorithm], **plot_kwargs)\n",
    "        if \"alpha\" in plot_kwargs.keys():\n",
    "            del plot_kwargs[\"alpha\"]\n",
    "        if \"markevery\" in plot_kwargs.keys():\n",
    "            del plot_kwargs[\"markevery\"]\n",
    "        ax.fill_between(x, lb, ub, alpha=0.1, color=d_color[algorithm], **plot_kwargs)\n",
    "        min_max_len = min(min_max_len, max_len)\n",
    "    #ax.legend()\n",
    "    ax.set_xlabel(\"#Iters\")\n",
    "    ax.set_ylabel(\"Objective\")\n",
    "    ax.set_xlim([0, min_max_len])\n",
    "    ax.grid()\n",
    "    #plt.yscale(\"log\")\n",
    "    \n",
    "    #plt.savefig(os.path.join(exp_dir, \"plot_result_regretpng.png\"), bbox_inches='tight')\n",
    "    #plt.savefig(os.path.join(exp_dir, \"plot_result_regretpdf.pdf\"), bbox_inches='tight')\n",
    "    #plt.clf()\n",
    "    #return y, max_len"
   ]
  },
  {
   "cell_type": "code",
   "execution_count": null,
   "metadata": {},
   "outputs": [],
   "source": [
    "list_experiences = [\"ba_betweenness_m-2_ninit-20_n-1000\", \"ba_betweenness_m-3_ninit-20_n-1000\", \"ba_betweenness_m-4_ninit-20_n-1000\",\n",
    "                    \"ba_eigenvector_centrality_m-2_ninit-20_n-1000\", \"ba_eigenvector_centrality_m-3_ninit-20_n-1000\", \"ba_eigenvector_centrality_m-4_ninit-20_n-1000\"]\n",
    "n_rows, n_cols = 2, 3\n",
    "#fig, axs = plt.subplots(n_rows, n_cols, layout='constrained', figsize=(20, 8))\n",
    "fig, axs = plt.subplots(n_rows, n_cols, layout='constrained', figsize=(20, 8))\n",
    "for i, experience in enumerate(list_experiences):\n",
    "    idx_row, idx_col = i // n_cols, i % n_cols\n",
    "    print(idx_row, idx_col)\n",
    "    plot_result(axs[idx_row, idx_col], \"./logs/centrality/\", list_experiences[i], std=False)\n",
    "\n",
    "handles, labels = axs[idx_row, idx_col].get_legend_handles_labels()\n",
    "#fig.legend(handles, labels, loc='center')\n",
    "axs[0, 0].title.set_text('(a) Betweenness Centrality with m = 2')\n",
    "axs[0, 1].title.set_text('(b) Betweenness Centrality with m = 3')\n",
    "axs[0, 2].title.set_text('(c) Betweenness Centrality with m = 4')\n",
    "axs[1, 0].title.set_text('(d) Eigenvector Centrality with m = 2')\n",
    "axs[1, 1].title.set_text('(e) Eigenvector Centrality with m = 3')\n",
    "axs[1, 2].title.set_text('(f) Eigenvector Centrality with m = 4')\n",
    "#axs[1, 1].legend(handles = handles , labels=labels,loc='upper center', \n",
    "#             bbox_to_anchor=(0.5, -0.2),fancybox=False, shadow=False, ncol=4)\n",
    "fig.legend(handles = handles , labels=labels,loc='upper center', \n",
    "             bbox_to_anchor=(0.5, 0.),fancybox=False, shadow=False, ncol=4)\n",
    "#plt.legend()\n",
    "#plt.show()\n"
   ]
  }
 ],
 "metadata": {
  "kernelspec": {
   "display_name": "graph",
   "language": "python",
   "name": "python3"
  },
  "language_info": {
   "codemirror_mode": {
    "name": "ipython",
    "version": 3
   },
   "file_extension": ".py",
   "mimetype": "text/x-python",
   "name": "python",
   "nbconvert_exporter": "python",
   "pygments_lexer": "ipython3",
   "version": "3.10.11"
  },
  "orig_nbformat": 4
 },
 "nbformat": 4,
 "nbformat_minor": 2
}
